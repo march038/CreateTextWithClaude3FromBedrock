{
 "cells": [
  {
   "cell_type": "code",
   "execution_count": 9,
   "id": "40a53841-f6fc-4ec2-93bf-2feced950f26",
   "metadata": {},
   "outputs": [],
   "source": [
    "import json\n",
    "import boto3\n",
    "import os\n",
    "from dotenv import load_dotenv\n",
    "\n",
    "# hide my access  information\n",
    "load_dotenv(r\"credentials.env\")\n",
    "\n",
    "# save all env-variables into notebook-variables\n",
    "AWS_ACCESS_KEY_ID = os.environ.get(\"AWS_ACCESS_KEY_ID\")\n",
    "AWS_SECRET_ACCESS_KEY = os.environ.get(\"AWS_SECRET_ACCESS_KEY\")\n",
    "AWS_REGION  = os.environ.get(\"AWS_REGION\")"
   ]
  },
  {
   "cell_type": "code",
   "execution_count": 24,
   "id": "0616a8b3-e535-40e7-9a76-223fa1bcb8a9",
   "metadata": {},
   "outputs": [
    {
     "name": "stdin",
     "output_type": "stream",
     "text": [
      "Enter your prompt:  What is HayDay?\n"
     ]
    },
    {
     "name": "stdout",
     "output_type": "stream",
     "text": [
      "Hay Day is a popular free-to-play mobile farming simulation game developed and published by Supercell. Here are some key details about Hay Day:\n",
      "\n",
      "- Genre: Farming simulation/Time management\n",
      "- Released: June 2012 for iOS, later for Android and other platforms\n",
      "- Gameplay: Players manage and build up a farm by planting and harvesting crops, taking care of animals, processing raw materials into goods, trading with other players, and expanding/decorating their farmland.\n",
      "- Features: Crops, fruit trees, animals like cows/chickens/sheep, production buildings like bakeries/mills, roadside shops to sell goods, mining, fishing, boat orders, and more.\n",
      "- Business Model: Free to download and play but offers in-app purchases for premium currency (diamonds) to speed up production timers.\n",
      "- Social Elements: Players can join a co-op farm to trade resources and complete orders together.\n",
      "- Graphics: Colorful, cartoonish 2D visuals.\n",
      "- Popular: One of the highest-grossing mobile games, earning over $1 billion in revenue as of 2020 despite being free-to-start.\n",
      "\n",
      "Hay Day combines farm simulation gameplay with time management and light social/trading elements in an accessible mobile game aimed at casual players of all ages.\n"
     ]
    }
   ],
   "source": [
    "#  Collect the user input as prompt\n",
    "user_prompt = input(\"Enter your prompt: \")\n",
    "\n",
    "# Configure AWS Client\n",
    "bedrock=  boto3.client(service_name=\"bedrock-runtime\", \n",
    "                       region_name=AWS_REGION,aws_access_key_id=AWS_ACCESS_KEY_ID,\n",
    "                       aws_secret_access_key=AWS_SECRET_ACCESS_KEY)\n",
    "\n",
    "# Body format for API-request\n",
    "payload = {\n",
    "    \"anthropic_version\": \"bedrock-2023-05-31\",\n",
    "    \"max_tokens\": 1000,\n",
    "    \"messages\": [\n",
    "        {\n",
    "            \"role\": \"user\",\n",
    "            \"content\": user_prompt\n",
    "        }\n",
    "    ]\n",
    "}\n",
    "\n",
    "# Convert the payload to a JSON-formatted string\n",
    "body = json.dumps(payload)\n",
    "\n",
    "# Get the response with the API-request\n",
    "response = bedrock.invoke_model(\n",
    "    body=body,\n",
    "    modelId=\"anthropic.claude-3-sonnet-20240229-v1:0\",\n",
    "    contentType=\"application/json\",\n",
    "    accept=\"application/json\"\n",
    ")\n",
    "\n",
    "# Retrieve and print the response\n",
    "response_body = json.loads(response.get('body').read().decode('utf-8'))\n",
    "\n",
    "# Access the 'content' part of the response_body, than ('[0]') and 'text'\n",
    "if 'content' in response_body and response_body['content']:\n",
    "    model_response = response_body['content'][0]['text']\n",
    "    print(model_response)\n",
    "else:\n",
    "    print(\"No answer found.\")"
   ]
  },
  {
   "cell_type": "code",
   "execution_count": null,
   "id": "968930d2-b25c-4593-9649-9f08ae158319",
   "metadata": {},
   "outputs": [],
   "source": []
  },
  {
   "cell_type": "code",
   "execution_count": null,
   "id": "5f407cf8-569e-42ed-9bec-d1420eb01abd",
   "metadata": {},
   "outputs": [],
   "source": []
  }
 ],
 "metadata": {
  "kernelspec": {
   "display_name": "Python 3 (ipykernel)",
   "language": "python",
   "name": "python3"
  },
  "language_info": {
   "codemirror_mode": {
    "name": "ipython",
    "version": 3
   },
   "file_extension": ".py",
   "mimetype": "text/x-python",
   "name": "python",
   "nbconvert_exporter": "python",
   "pygments_lexer": "ipython3",
   "version": "3.9.18"
  }
 },
 "nbformat": 4,
 "nbformat_minor": 5
}
